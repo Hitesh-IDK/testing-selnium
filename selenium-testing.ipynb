{
 "cells": [
  {
   "cell_type": "code",
   "execution_count": 1,
   "id": "6569c3ee-2fe7-422a-a7aa-bf14a8df7df7",
   "metadata": {},
   "outputs": [],
   "source": [
    "from selenium import webdriver\n",
    "from selenium.webdriver import ActionChains\n",
    "from selenium.webdriver.common.by import By\n",
    "from selenium.webdriver.common.actions.wheel_input import ScrollOrigin\n",
    "from selenium.webdriver.support.relative_locator import locate_with\n",
    "\n",
    "import time\n",
    "\n",
    "\n",
    "driver = webdriver.Chrome()\n",
    "driver.get(\"http://localhost:3000\")\n",
    "driver.minimize_window()\n",
    "driver.maximize_window()"
   ]
  },
  {
   "cell_type": "code",
   "execution_count": 2,
   "id": "50397c9d-e1fb-4250-927e-6cb006434722",
   "metadata": {},
   "outputs": [],
   "source": [
    "nameEl = driver.find_element(By.ID, \"name\")\n",
    "purposeEl = driver.find_element(By.ID, \"purpose\")\n",
    "aboutEl = driver.find_element(By.ID, \"about\")\n",
    "submitEl = driver.find_element(By.ID, \"submit\")\n",
    "\n",
    "time.sleep(2)"
   ]
  },
  {
   "cell_type": "code",
   "execution_count": 3,
   "id": "87456c1e-6507-4df4-a1c5-a57a32cbd72f",
   "metadata": {},
   "outputs": [],
   "source": [
    "ActionChains(driver).send_keys(\"\\ue00f\").perform()\n",
    "ActionChains(driver).send_keys(\"\\ue00f\").perform()"
   ]
  },
  {
   "cell_type": "code",
   "execution_count": 4,
   "id": "137c4715-34e4-48c9-91d4-9b2828b2b452",
   "metadata": {},
   "outputs": [],
   "source": [
    "name = [x for x in \"Robomax V.3\"]\n",
    "purpose = [x for x in \"To showcase selenium testing\"]\n",
    "about = [x for x in \"\"\"Hello! My name is Robomax V.3. \n",
    "I am a software engineer with over 5 years of experience in developing web applications and blockchain solutions. \n",
    "I have a keen interest in artificial intelligence and machine learning, \n",
    "and I enjoy working on innovative projects that push the boundaries of technology. In my free time, \n",
    "I love hiking, reading science fiction novels, and experimenting with new programming languages. \n",
    "I am passionate about open-source contributions and actively participate in community-driven projects. \n",
    "I hold a Bachelor's degree in Computer Science from VVIET.\"\"\"]"
   ]
  },
  {
   "cell_type": "code",
   "execution_count": 5,
   "id": "d6de6330-be14-4f81-bbc5-8c08eb59349d",
   "metadata": {},
   "outputs": [],
   "source": [
    "for ch in name:\n",
    "    nameEl.send_keys(ch)\n",
    "    #time.sleep(0.8)"
   ]
  },
  {
   "cell_type": "code",
   "execution_count": 6,
   "id": "0c6739ef-0afa-45cf-947a-52b37d7caa34",
   "metadata": {},
   "outputs": [],
   "source": [
    "for ch in purpose:\n",
    "    purposeEl.send_keys(ch)\n",
    "    #time.sleep(0.3)"
   ]
  },
  {
   "cell_type": "code",
   "execution_count": 7,
   "id": "d6377ae4-5c6a-4ad7-82a7-fb4a2a06cf53",
   "metadata": {},
   "outputs": [],
   "source": [
    "time.sleep(1)\n",
    "radioButtons = driver.find_elements(By.CLASS_NAME, \"chakra-radio\")\n",
    "humanRadio = radioButtons[1]\n",
    "humanRadio.click()"
   ]
  },
  {
   "cell_type": "code",
   "execution_count": 9,
   "id": "1ffbf14d-7a0a-4c9f-9e36-184c62b45524",
   "metadata": {},
   "outputs": [
    {
     "ename": "StaleElementReferenceException",
     "evalue": "Message: stale element reference: stale element not found in the current frame\n  (Session info: chrome=126.0.6478.127); For documentation on this error, please visit: https://www.selenium.dev/documentation/webdriver/troubleshooting/errors#stale-element-reference-exception\nStacktrace:\n\tGetHandleVerifier [0x00007FF67CADEEA2+31554]\n\t(No symbol) [0x00007FF67CA57ED9]\n\t(No symbol) [0x00007FF67C91872A]\n\t(No symbol) [0x00007FF67C91E55E]\n\t(No symbol) [0x00007FF67C920EB1]\n\t(No symbol) [0x00007FF67C920F50]\n\t(No symbol) [0x00007FF67C969192]\n\t(No symbol) [0x00007FF67C969272]\n\t(No symbol) [0x00007FF67C95F119]\n\t(No symbol) [0x00007FF67C98D02A]\n\t(No symbol) [0x00007FF67C95BA76]\n\t(No symbol) [0x00007FF67C98D240]\n\t(No symbol) [0x00007FF67C9AC977]\n\t(No symbol) [0x00007FF67C98CDD3]\n\t(No symbol) [0x00007FF67C95A33B]\n\t(No symbol) [0x00007FF67C95AED1]\n\tGetHandleVerifier [0x00007FF67CDE8B1D+3217341]\n\tGetHandleVerifier [0x00007FF67CE35AE3+3532675]\n\tGetHandleVerifier [0x00007FF67CE2B0E0+3489152]\n\tGetHandleVerifier [0x00007FF67CB8E776+750614]\n\t(No symbol) [0x00007FF67CA6375F]\n\t(No symbol) [0x00007FF67CA5EB14]\n\t(No symbol) [0x00007FF67CA5ECA2]\n\t(No symbol) [0x00007FF67CA4E16F]\n\tBaseThreadInitThunk [0x00007FF9ED73257D+29]\n\tRtlUserThreadStart [0x00007FF9EF88AF28+40]\n",
     "output_type": "error",
     "traceback": [
      "\u001b[1;31m---------------------------------------------------------------------------\u001b[0m",
      "\u001b[1;31mStaleElementReferenceException\u001b[0m            Traceback (most recent call last)",
      "Cell \u001b[1;32mIn[9], line 4\u001b[0m\n\u001b[0;32m      1\u001b[0m \u001b[38;5;28;01mimport\u001b[39;00m \u001b[38;5;21;01mrandom\u001b[39;00m\n\u001b[0;32m      3\u001b[0m \u001b[38;5;28;01mfor\u001b[39;00m i, ch \u001b[38;5;129;01min\u001b[39;00m \u001b[38;5;28menumerate\u001b[39m(about):\n\u001b[1;32m----> 4\u001b[0m     aboutEl\u001b[38;5;241m.\u001b[39msend_keys(ch)\n\u001b[0;32m      5\u001b[0m     num \u001b[38;5;241m=\u001b[39m random\u001b[38;5;241m.\u001b[39mrandint(\u001b[38;5;241m1\u001b[39m, \u001b[38;5;241m10\u001b[39m)\n\u001b[0;32m      6\u001b[0m     \u001b[38;5;28;01mif\u001b[39;00m num \u001b[38;5;241m>\u001b[39m \u001b[38;5;241m7\u001b[39m:\n",
      "File \u001b[1;32m~\\anaconda3\\Lib\\site-packages\\selenium\\webdriver\\remote\\webelement.py:231\u001b[0m, in \u001b[0;36mWebElement.send_keys\u001b[1;34m(self, *value)\u001b[0m\n\u001b[0;32m    228\u001b[0m             remote_files\u001b[38;5;241m.\u001b[39mappend(\u001b[38;5;28mself\u001b[39m\u001b[38;5;241m.\u001b[39m_upload(file))\n\u001b[0;32m    229\u001b[0m         value \u001b[38;5;241m=\u001b[39m \u001b[38;5;124m\"\u001b[39m\u001b[38;5;130;01m\\n\u001b[39;00m\u001b[38;5;124m\"\u001b[39m\u001b[38;5;241m.\u001b[39mjoin(remote_files)\n\u001b[1;32m--> 231\u001b[0m \u001b[38;5;28mself\u001b[39m\u001b[38;5;241m.\u001b[39m_execute(\n\u001b[0;32m    232\u001b[0m     Command\u001b[38;5;241m.\u001b[39mSEND_KEYS_TO_ELEMENT, {\u001b[38;5;124m\"\u001b[39m\u001b[38;5;124mtext\u001b[39m\u001b[38;5;124m\"\u001b[39m: \u001b[38;5;124m\"\u001b[39m\u001b[38;5;124m\"\u001b[39m\u001b[38;5;241m.\u001b[39mjoin(keys_to_typing(value)), \u001b[38;5;124m\"\u001b[39m\u001b[38;5;124mvalue\u001b[39m\u001b[38;5;124m\"\u001b[39m: keys_to_typing(value)}\n\u001b[0;32m    233\u001b[0m )\n",
      "File \u001b[1;32m~\\anaconda3\\Lib\\site-packages\\selenium\\webdriver\\remote\\webelement.py:395\u001b[0m, in \u001b[0;36mWebElement._execute\u001b[1;34m(self, command, params)\u001b[0m\n\u001b[0;32m    393\u001b[0m     params \u001b[38;5;241m=\u001b[39m {}\n\u001b[0;32m    394\u001b[0m params[\u001b[38;5;124m\"\u001b[39m\u001b[38;5;124mid\u001b[39m\u001b[38;5;124m\"\u001b[39m] \u001b[38;5;241m=\u001b[39m \u001b[38;5;28mself\u001b[39m\u001b[38;5;241m.\u001b[39m_id\n\u001b[1;32m--> 395\u001b[0m \u001b[38;5;28;01mreturn\u001b[39;00m \u001b[38;5;28mself\u001b[39m\u001b[38;5;241m.\u001b[39m_parent\u001b[38;5;241m.\u001b[39mexecute(command, params)\n",
      "File \u001b[1;32m~\\anaconda3\\Lib\\site-packages\\selenium\\webdriver\\remote\\webdriver.py:354\u001b[0m, in \u001b[0;36mWebDriver.execute\u001b[1;34m(self, driver_command, params)\u001b[0m\n\u001b[0;32m    352\u001b[0m response \u001b[38;5;241m=\u001b[39m \u001b[38;5;28mself\u001b[39m\u001b[38;5;241m.\u001b[39mcommand_executor\u001b[38;5;241m.\u001b[39mexecute(driver_command, params)\n\u001b[0;32m    353\u001b[0m \u001b[38;5;28;01mif\u001b[39;00m response:\n\u001b[1;32m--> 354\u001b[0m     \u001b[38;5;28mself\u001b[39m\u001b[38;5;241m.\u001b[39merror_handler\u001b[38;5;241m.\u001b[39mcheck_response(response)\n\u001b[0;32m    355\u001b[0m     response[\u001b[38;5;124m\"\u001b[39m\u001b[38;5;124mvalue\u001b[39m\u001b[38;5;124m\"\u001b[39m] \u001b[38;5;241m=\u001b[39m \u001b[38;5;28mself\u001b[39m\u001b[38;5;241m.\u001b[39m_unwrap_value(response\u001b[38;5;241m.\u001b[39mget(\u001b[38;5;124m\"\u001b[39m\u001b[38;5;124mvalue\u001b[39m\u001b[38;5;124m\"\u001b[39m, \u001b[38;5;28;01mNone\u001b[39;00m))\n\u001b[0;32m    356\u001b[0m     \u001b[38;5;28;01mreturn\u001b[39;00m response\n",
      "File \u001b[1;32m~\\anaconda3\\Lib\\site-packages\\selenium\\webdriver\\remote\\errorhandler.py:229\u001b[0m, in \u001b[0;36mErrorHandler.check_response\u001b[1;34m(self, response)\u001b[0m\n\u001b[0;32m    227\u001b[0m         alert_text \u001b[38;5;241m=\u001b[39m value[\u001b[38;5;124m\"\u001b[39m\u001b[38;5;124malert\u001b[39m\u001b[38;5;124m\"\u001b[39m]\u001b[38;5;241m.\u001b[39mget(\u001b[38;5;124m\"\u001b[39m\u001b[38;5;124mtext\u001b[39m\u001b[38;5;124m\"\u001b[39m)\n\u001b[0;32m    228\u001b[0m     \u001b[38;5;28;01mraise\u001b[39;00m exception_class(message, screen, stacktrace, alert_text)  \u001b[38;5;66;03m# type: ignore[call-arg]  # mypy is not smart enough here\u001b[39;00m\n\u001b[1;32m--> 229\u001b[0m \u001b[38;5;28;01mraise\u001b[39;00m exception_class(message, screen, stacktrace)\n",
      "\u001b[1;31mStaleElementReferenceException\u001b[0m: Message: stale element reference: stale element not found in the current frame\n  (Session info: chrome=126.0.6478.127); For documentation on this error, please visit: https://www.selenium.dev/documentation/webdriver/troubleshooting/errors#stale-element-reference-exception\nStacktrace:\n\tGetHandleVerifier [0x00007FF67CADEEA2+31554]\n\t(No symbol) [0x00007FF67CA57ED9]\n\t(No symbol) [0x00007FF67C91872A]\n\t(No symbol) [0x00007FF67C91E55E]\n\t(No symbol) [0x00007FF67C920EB1]\n\t(No symbol) [0x00007FF67C920F50]\n\t(No symbol) [0x00007FF67C969192]\n\t(No symbol) [0x00007FF67C969272]\n\t(No symbol) [0x00007FF67C95F119]\n\t(No symbol) [0x00007FF67C98D02A]\n\t(No symbol) [0x00007FF67C95BA76]\n\t(No symbol) [0x00007FF67C98D240]\n\t(No symbol) [0x00007FF67C9AC977]\n\t(No symbol) [0x00007FF67C98CDD3]\n\t(No symbol) [0x00007FF67C95A33B]\n\t(No symbol) [0x00007FF67C95AED1]\n\tGetHandleVerifier [0x00007FF67CDE8B1D+3217341]\n\tGetHandleVerifier [0x00007FF67CE35AE3+3532675]\n\tGetHandleVerifier [0x00007FF67CE2B0E0+3489152]\n\tGetHandleVerifier [0x00007FF67CB8E776+750614]\n\t(No symbol) [0x00007FF67CA6375F]\n\t(No symbol) [0x00007FF67CA5EB14]\n\t(No symbol) [0x00007FF67CA5ECA2]\n\t(No symbol) [0x00007FF67CA4E16F]\n\tBaseThreadInitThunk [0x00007FF9ED73257D+29]\n\tRtlUserThreadStart [0x00007FF9EF88AF28+40]\n"
     ]
    }
   ],
   "source": [
    "import random\n",
    "\n",
    "for i, ch in enumerate(about):\n",
    "    aboutEl.send_keys(ch)\n",
    "    num = random.randint(1, 10)\n",
    "    if num > 7:\n",
    "        time.sleep(0.04)\n",
    "    elif num > 4:\n",
    "        time.sleep(0.1)\n",
    "    elif num > 2:\n",
    "        time.sleep(0.07)\n",
    "    else:\n",
    "        time.sleep(0.1)\n",
    "    "
   ]
  },
  {
   "cell_type": "code",
   "execution_count": null,
   "id": "7b4e718b-76b9-4296-903e-873aa8f16878",
   "metadata": {},
   "outputs": [],
   "source": [
    "time.sleep(1)\n",
    "\n",
    "submitEl.click()"
   ]
  },
  {
   "cell_type": "code",
   "execution_count": null,
   "id": "20684d87-ed4e-4058-8876-4087009e1425",
   "metadata": {},
   "outputs": [],
   "source": [
    "#driver.quit()"
   ]
  }
 ],
 "metadata": {
  "kernelspec": {
   "display_name": "Python 3 (ipykernel)",
   "language": "python",
   "name": "python3"
  },
  "language_info": {
   "codemirror_mode": {
    "name": "ipython",
    "version": 3
   },
   "file_extension": ".py",
   "mimetype": "text/x-python",
   "name": "python",
   "nbconvert_exporter": "python",
   "pygments_lexer": "ipython3",
   "version": "3.11.7"
  }
 },
 "nbformat": 4,
 "nbformat_minor": 5
}
